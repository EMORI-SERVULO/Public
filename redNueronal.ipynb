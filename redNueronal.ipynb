{
  "nbformat": 4,
  "nbformat_minor": 0,
  "metadata": {
    "colab": {
      "name": "Untitled0.ipynb",
      "provenance": [],
      "include_colab_link": true
    },
    "kernelspec": {
      "name": "python3",
      "display_name": "Python 3"
    }
  },
  "cells": [
    {
      "cell_type": "markdown",
      "metadata": {
        "id": "view-in-github",
        "colab_type": "text"
      },
      "source": [
        "<a href=\"https://colab.research.google.com/github/EMORI-SERVULO/Public/blob/master/redNueronal.ipynb\" target=\"_parent\"><img src=\"https://colab.research.google.com/assets/colab-badge.svg\" alt=\"Open In Colab\"/></a>"
      ]
    },
    {
      "cell_type": "code",
      "metadata": {
        "id": "S-5g11lsPSKo",
        "colab_type": "code",
        "colab": {}
      },
      "source": [
        "\n",
        "import numpy as np\n"
      ],
      "execution_count": 0,
      "outputs": []
    },
    {
      "cell_type": "code",
      "metadata": {
        "id": "HyOkeh1oQ_fe",
        "colab_type": "code",
        "colab": {}
      },
      "source": [
        "def sigmoid(x):\n",
        "    return 1.0/(1.0 + np.exp(-x))\n",
        "\n",
        "def sigmoid_derivada(x):\n",
        "    return sigmoid(x)*(1.0-sigmoid(x))\n",
        "\n",
        "def tanh(x):\n",
        "    return np.tanh(x)\n",
        "\n",
        "def tanh_derivada(x):\n",
        "    return 1.0 - x**2"
      ],
      "execution_count": 0,
      "outputs": []
    },
    {
      "cell_type": "code",
      "metadata": {
        "id": "V1IVW_80RF2N",
        "colab_type": "code",
        "colab": {}
      },
      "source": [
        "class NeuralNetwork:\n",
        "\n",
        "    def __init__(self, layers, activation='tanh'):\n",
        "        if activation == 'sigmoid':\n",
        "            self.activation = sigmoid\n",
        "            self.activation_prime = sigmoid_derivada\n",
        "        elif activation == 'tanh':\n",
        "            self.activation = tanh\n",
        "            self.activation_prime = tanh_derivada\n",
        "\n",
        "        # inicializo los pesos\n",
        "        self.weights = []\n",
        "        self.deltas = []\n",
        "        # capas = [2,3,2]\n",
        "        # rando de pesos varia entre (-1,1)\n",
        "        # asigno valores aleatorios a capa de entrada y capa oculta\n",
        "        for i in range(1, len(layers) - 1):\n",
        "            r = 2*np.random.random((layers[i-1] + 1, layers[i] + 1)) -1\n",
        "            self.weights.append(r)\n",
        "        # asigno aleatorios a capa de salida\n",
        "        r = 2*np.random.random( (layers[i] + 1, layers[i+1])) - 1\n",
        "        self.weights.append(r)\n",
        "\n",
        "    def fit(self, X, y, learning_rate=0.2, epochs=100000):\n",
        "        # Agrego columna de unos a las entradas X\n",
        "        # Con esto agregamos la unidad de Bias a la capa de entrada\n",
        "        ones = np.atleast_2d(np.ones(X.shape[0]))\n",
        "        X = np.concatenate((ones.T, X), axis=1)\n",
        "        \n",
        "        for k in range(epochs):\n",
        "            i = np.random.randint(X.shape[0])\n",
        "            a = [X[i]]\n",
        "\n",
        "            for l in range(len(self.weights)):\n",
        "                    dot_value = np.dot(a[l], self.weights[l])\n",
        "                    activation = self.activation(dot_value)\n",
        "                    a.append(activation)\n",
        "            # Calculo la diferencia en la capa de salida y el valor obtenido\n",
        "            error = y[i] - a[-1]\n",
        "            deltas = [error * self.activation_prime(a[-1])]\n",
        "            \n",
        "            # Empezamos en el segundo layer hasta el ultimo\n",
        "            # (Una capa anterior a la de salida)\n",
        "            for l in range(len(a) - 2, 0, -1): \n",
        "                deltas.append(deltas[-1].dot(self.weights[l].T)*self.activation_prime(a[l]))\n",
        "            self.deltas.append(deltas)\n",
        "\n",
        "            # invertir\n",
        "            # [level3(output)->level2(hidden)]  => [level2(hidden)->level3(output)]\n",
        "            deltas.reverse()\n",
        "\n",
        "            # backpropagation\n",
        "            # 1. Multiplcar los delta de salida con las activaciones de entrada \n",
        "            #    para obtener el gradiente del peso.\n",
        "            # 2. actualizo el peso restandole un porcentaje del gradiente\n",
        "            for i in range(len(self.weights)):\n",
        "                layer = np.atleast_2d(a[i])\n",
        "                delta = np.atleast_2d(deltas[i])\n",
        "                self.weights[i] += learning_rate * layer.T.dot(delta)\n",
        "\n",
        "            if k % 10000 == 0: print('epochs:', k)\n",
        "\n",
        "    def predict(self, x): \n",
        "        ones = np.atleast_2d(np.ones(x.shape[0]))\n",
        "        a = np.concatenate((np.ones(1).T, np.array(x)), axis=0)\n",
        "        for l in range(0, len(self.weights)):\n",
        "            a = self.activation(np.dot(a, self.weights[l]))\n",
        "        return a\n",
        "\n",
        "    def print_weights(self):\n",
        "        print(\"LISTADO PESOS DE CONEXIONES\")\n",
        "        for i in range(len(self.weights)):\n",
        "            print(self.weights[i])\n",
        "\n",
        "    def get_deltas(self):\n",
        "        return self.deltas"
      ],
      "execution_count": 0,
      "outputs": []
    },
    {
      "cell_type": "code",
      "metadata": {
        "id": "9L7upm3HRMWn",
        "colab_type": "code",
        "colab": {
          "base_uri": "https://localhost:8080/",
          "height": 106
        },
        "outputId": "3a82cb9b-8188-42bc-ce78-61cf4ebc132b"
      },
      "source": [
        "# funcion XOR\n",
        "nn = NeuralNetwork([2,2,1])\n",
        "X = np.array([[0, 0],\n",
        "            [0, 1],\n",
        "            [1, 0],\n",
        "            [1, 1]])\n",
        "y = np.array([0, 1, 1, 0])\n",
        "nn.fit(X, y,epochs=2500)\n",
        "for e in X:\n",
        "    print(\"Entrdas:\",e,\"Salidas:\",nn.predict(e))"
      ],
      "execution_count": 16,
      "outputs": [
        {
          "output_type": "stream",
          "text": [
            "epochs: 0\n",
            "Entrdas: [0 0] Salidas: [0.01459908]\n",
            "Entrdas: [0 1] Salidas: [0.96251821]\n",
            "Entrdas: [1 0] Salidas: [0.9606063]\n",
            "Entrdas: [1 1] Salidas: [0.04132114]\n"
          ],
          "name": "stdout"
        }
      ]
    },
    {
      "cell_type": "code",
      "metadata": {
        "id": "ZGblsgvwSl95",
        "colab_type": "code",
        "colab": {
          "base_uri": "https://localhost:8080/",
          "height": 142
        },
        "outputId": "03a7a530-473a-40ce-c860-36185213cf2f"
      },
      "source": [
        "\n",
        "\n",
        "nn.print_weights()\n",
        "\n"
      ],
      "execution_count": 17,
      "outputs": [
        {
          "output_type": "stream",
          "text": [
            "LISTADO PESOS DE CONEXIONES\n",
            "[[ 0.33312049  0.96929334 -1.01181827]\n",
            " [-1.1970704  -0.56639392  2.55493383]\n",
            " [-0.20677344 -1.19665857  2.50590589]]\n",
            "[[1.46094368]\n",
            " [1.90995267]\n",
            " [2.45818313]]\n"
          ],
          "name": "stdout"
        }
      ]
    },
    {
      "cell_type": "code",
      "metadata": {
        "id": "UQKLRuCTSD80",
        "colab_type": "code",
        "colab": {
          "base_uri": "https://localhost:8080/",
          "height": 178
        },
        "outputId": "cd219f97-2a39-45b1-e65b-8e6ef9902219"
      },
      "source": [
        "# funcion Coche Evita obstáculos\n",
        "nn = NeuralNetwork([2,3,2],activation ='tanh')\n",
        "X = np.array([[0, 0],   # sin obstaculos\n",
        "              [0, 1],   # sin obstaculos\n",
        "              [0, -1],  # sin obstaculos\n",
        "              [0.5, 1], # obstaculo detectado a derecha\n",
        "              [0.5,-1], # obstaculo a izq\n",
        "              [1,1],    # demasiado cerca a derecha\n",
        "              [1,-1]])  # demasiado cerca a izq\n",
        "\n",
        "y = np.array([[0,1],    # avanzar\n",
        "              [0,1],    # avanzar\n",
        "              [0,1],    # avanzar\n",
        "              [-1,1],   # giro izquierda\n",
        "              [1,1],    # giro derecha\n",
        "              [0,-1],   # retroceder\n",
        "              [0,-1]])  # retroceder\n",
        "nn.fit(X, y, learning_rate=0.03,epochs=15001)\n",
        "\n",
        "index=0\n",
        "for e in X:\n",
        "    print(\"X:\",e,\"y:\",y[index],\"Network:\",nn.predict(e))\n",
        "    index=index+1"
      ],
      "execution_count": 14,
      "outputs": [
        {
          "output_type": "stream",
          "text": [
            "epochs: 0\n",
            "epochs: 10000\n",
            "X: [0. 0.] y: [0 1] Network: [0.00191208 0.999987  ]\n",
            "X: [0. 1.] y: [0 1] Network: [-0.00155286  0.99998227]\n",
            "X: [ 0. -1.] y: [0 1] Network: [-5.56800735e-04  9.99923778e-01]\n",
            "X: [0.5 1. ] y: [-1  1] Network: [-0.9361485   0.95287172]\n",
            "X: [ 0.5 -1. ] y: [1 1] Network: [0.95959703 0.95602061]\n",
            "X: [1. 1.] y: [ 0 -1] Network: [-0.00893906 -0.96409455]\n",
            "X: [ 1. -1.] y: [ 0 -1] Network: [ 0.00355377 -0.97053715]\n"
          ],
          "name": "stdout"
        }
      ]
    },
    {
      "cell_type": "code",
      "metadata": {
        "id": "jDKPQTGTSfkS",
        "colab_type": "code",
        "colab": {
          "base_uri": "https://localhost:8080/",
          "height": 160
        },
        "outputId": "9bd65669-22dc-4a13-c6d8-be1b62ba4d1d"
      },
      "source": [
        "\n",
        "\n",
        "nn.print_weights()\n",
        "\n"
      ],
      "execution_count": 15,
      "outputs": [
        {
          "output_type": "stream",
          "text": [
            "LISTADO PESOS DE CONEXIONES\n",
            "[[ 0.47347102 -1.72279585 -1.52805261 -1.43949019]\n",
            " [-0.65631183  3.1023058   3.17519661 -0.29291389]\n",
            " [ 1.14745727  0.67175474 -0.97223917 -0.18915629]]\n",
            "[[ 0.89638539  0.16792411]\n",
            " [-1.75553314 -2.79733823]\n",
            " [ 2.05130749 -1.8731057 ]\n",
            " [ 0.19422289 -1.75548772]]\n"
          ],
          "name": "stdout"
        }
      ]
    }
  ]
}